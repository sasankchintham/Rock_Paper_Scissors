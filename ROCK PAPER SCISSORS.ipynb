{
 "cells": [
  {
   "cell_type": "code",
   "execution_count": 17,
   "id": "d3f2e123",
   "metadata": {},
   "outputs": [],
   "source": [
    "import numpy as np\n",
    "import random"
   ]
  },
  {
   "cell_type": "code",
   "execution_count": 21,
   "id": "53b17a1b",
   "metadata": {},
   "outputs": [
    {
     "name": "stdout",
     "output_type": "stream",
     "text": [
      "Enter No.of games you want to play: 1\n",
      "Enter 1 for Rock, 2 for Paper, 3 for Scissors:1\n",
      "user choose 1,computer choose Scissor\n",
      "user wins!\n"
     ]
    }
   ],
   "source": [
    "x=int(input(\"Enter No.of games you want to play: \"))\n",
    "rps_set={1:\"Rock\",2:\"Paper\",3:\"Scissor\"}\n",
    "m=random.choice([1,2,3])\n",
    "y=rps_set[m]\n",
    "for i in range(x):\n",
    "    n=int(input(\"Enter 1 for Rock, 2 for Paper, 3 for Scissors:\"))\n",
    "    if(n==m):\n",
    "        print(f\"user choose {n},computer choose {y}\\nTie!\")\n",
    "    elif(n==1 and m==2):\n",
    "        print(f\"user choose {n},computer choose {y}\\ncomputer wins!\")\n",
    "    elif(n==1 and m==3):\n",
    "        print(f\"user choose {n},computer choose {y}\\nuser wins!\")\n",
    "    elif(n==2 and m==1):\n",
    "        print(f\"user choose {n},computer Choose {y}\\nuser wins!\")\n",
    "    elif(n==2 and m==3):\n",
    "        print(f\"user choose {n},computer choose {y}\\ncomputer wins!\")\n",
    "    elif(n==3 and m==1):\n",
    "        print(f\"user choose {n},computer choose {y}\\ncomputer wins!\")\n",
    "    elif(n==3 and m==2):\n",
    "        print(f\"user choose {n},computer choose {y}\\nuser wins!\")\n",
    "    else:\n",
    "        print(\"enter correct number\")"
   ]
  },
  {
   "cell_type": "code",
   "execution_count": 19,
   "id": "e97b6a58",
   "metadata": {},
   "outputs": [
    {
     "name": "stdout",
     "output_type": "stream",
     "text": [
      "Enter the number of games you want to play: 2\n",
      "Enter 1 for Rock, 2 for Paper, 3 for Scissors: 2\n",
      "User chose Paper, Computer chose Scissors\n",
      "Computer wins this round!\n",
      "Enter 1 for Rock, 2 for Paper, 3 for Scissors: 3\n",
      "User chose Scissors, Computer chose Paper\n",
      "User wins this round!\n",
      "\n",
      "Game Over!\n",
      "User won 1 out of 2 games.\n",
      "Computer won 1 out of 2 games.\n",
      "It's a tie overall!\n"
     ]
    }
   ],
   "source": [
    "user_wins = 0\n",
    "computer_wins = 0\n",
    "x = int(input(\"Enter the number of games you want to play: \"))\n",
    "rps_set = {1: \"Rock\", 2: \"Paper\", 3: \"Scissors\"}\n",
    "for i in range(x):\n",
    "    m = random.choice([1, 2, 3])\n",
    "    y = rps_set[m]\n",
    "    n = int(input(\"Enter 1 for Rock, 2 for Paper, 3 for Scissors: \"))\n",
    "    \n",
    "    if n not in rps_set:\n",
    "        print(\"Please enter a valid number.\")\n",
    "        continue\n",
    "\n",
    "    user_choice = rps_set[n]\n",
    "    \n",
    "    print(f\"User chose {user_choice}, Computer chose {y}\")\n",
    "    \n",
    "    if n == m:\n",
    "        print(\"It's a tie!\")\n",
    "    elif (n == 1 and m == 3) or (n == 2 and m == 1) or (n == 3 and m == 2):\n",
    "        print(\"User wins this round!\")\n",
    "        user_wins += 1\n",
    "    else:\n",
    "        print(\"Computer wins this round!\")\n",
    "        computer_wins += 1\n",
    "print(\"\\nGame Over!\")\n",
    "print(f\"User won {user_wins} out of {x} games.\")\n",
    "print(f\"Computer won {computer_wins} out of {x} games.\")\n",
    "\n",
    "if user_wins > computer_wins:\n",
    "    print(\"Overall winner: User!\")\n",
    "elif computer_wins > user_wins:\n",
    "    print(\"Overall winner: Computer!\")\n",
    "else:\n",
    "    print(\"It's a tie overall!\")\n"
   ]
  },
  {
   "cell_type": "code",
   "execution_count": null,
   "id": "5edf3496",
   "metadata": {},
   "outputs": [],
   "source": []
  }
 ],
 "metadata": {
  "kernelspec": {
   "display_name": "Python 3 (ipykernel)",
   "language": "python",
   "name": "python3"
  },
  "language_info": {
   "codemirror_mode": {
    "name": "ipython",
    "version": 3
   },
   "file_extension": ".py",
   "mimetype": "text/x-python",
   "name": "python",
   "nbconvert_exporter": "python",
   "pygments_lexer": "ipython3",
   "version": "3.11.5"
  }
 },
 "nbformat": 4,
 "nbformat_minor": 5
}
